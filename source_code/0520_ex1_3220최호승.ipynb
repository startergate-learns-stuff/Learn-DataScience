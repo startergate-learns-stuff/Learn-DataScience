{
 "cells": [
  {
   "cell_type": "code",
   "execution_count": 1,
   "metadata": {},
   "outputs": [],
   "source": [
    "from urllib.request import urlopen\n",
    "from bs4 import BeautifulSoup"
   ]
  },
  {
   "cell_type": "code",
   "execution_count": 3,
   "metadata": {
    "pycharm": {
     "name": "#%%\n"
    }
   },
   "outputs": [],
   "source": [
    "url = 'http://www.innogov.go.kr/ucms/ogp/sug/list.do?pnum=1&menuNo=300011'\n",
    "\n",
    "html = urlopen(url)\n",
    "soup = BeautifulSoup(html, 'html.parser')"
   ]
  },
  {
   "cell_type": "code",
   "execution_count": 6,
   "metadata": {},
   "outputs": [
    {
     "data": {
      "text/plain": [
       "'/ucms/ogp/sug/view.do?menuNo=300011&sgId=280&pnum=1'"
      ]
     },
     "execution_count": 6,
     "metadata": {},
     "output_type": "execute_result"
    }
   ],
   "source": [
    "result = soup.select_one('#content > div.suggestion_list > ul > li:nth-child(1) > dl > dt > p > a')\n",
    "print(\"제목: \" + result.string)\n",
    "print(\"링크: \" + result.attrs.get('href'))"
   ]
  },
  {
   "cell_type": "code",
   "execution_count": 7,
   "metadata": {},
   "outputs": [
    {
     "name": "stdout",
     "output_type": "stream",
     "text": [
      "제목: 행정기관 소속 위원회 위원 개인정보 및 안건 공개 기준...\n",
      "링크: /ucms/ogp/sug/view.do?menuNo=300011&sgId=280&pnum=1\n",
      "제목: 초과근무 줄이기!\n",
      "링크: /ucms/ogp/sug/view.do?menuNo=300011&sgId=279&pnum=1\n",
      "제목: 원스톱 의원요구자료 제출 시스템 구축\n",
      "링크: /ucms/ogp/sug/view.do?menuNo=300011&sgId=278&pnum=1\n",
      "제목: 예산을 공평하게 분배\n",
      "링크: /ucms/ogp/sug/view.do?menuNo=300011&sgId=277&pnum=1\n",
      "제목: 공무원 인트라넷 통합메신저\n",
      "링크: /ucms/ogp/sug/view.do?menuNo=300011&sgId=276&pnum=1\n"
     ]
    }
   ],
   "source": [
    "results = soup.select('#content > div.suggestion_list > ul > li > dl > dt > p > a')\n",
    "for i in results:\n",
    "    print(\"제목: \" + i.string)\n",
    "    print(\"링크: \" + i.attrs.get('href'))"
   ]
  },
  {
   "cell_type": "code",
   "execution_count": 30,
   "metadata": {},
   "outputs": [
    {
     "name": "stdout",
     "output_type": "stream",
     "text": [
      "number\n",
      "3\n",
      "query\n",
      "행정\n",
      "1 페이지\n",
      "제목: 행정기관 소속 위원회 위원 개인정보 및 안건 공개 기준...\n",
      "링크: /ucms/ogp/sug/view.do?menuNo=300011&sgId=280&pnum=1\n",
      "제목: 원스톱 의원요구자료 제출 시스템 구축\n",
      "링크: /ucms/ogp/sug/view.do?menuNo=300011&sgId=278&pnum=1\n",
      "제목: 예산을 공평하게 분배\n",
      "링크: /ucms/ogp/sug/view.do?menuNo=300011&sgId=277&pnum=1\n",
      "제목: 공무원 인트라넷 통합메신저\n",
      "링크: /ucms/ogp/sug/view.do?menuNo=300011&sgId=276&pnum=1\n",
      "제목: 천차만별인 지역 유류가격을 지자체별로 저가 순위 주유소...\n",
      "링크: /ucms/ogp/sug/view.do?menuNo=300011&sgId=274&pnum=1\n",
      "\n",
      "2 페이지\n",
      "제목: 행안부 생활공감정책추진단 제안에 대한 검토방식 개선\n",
      "링크: /ucms/ogp/sug/view.do?menuNo=300011&sgId=272&pnum=2\n",
      "제목: 주거형 오피스텔 차별 해소 필요\n",
      "링크: /ucms/ogp/sug/view.do?menuNo=300011&sgId=271&pnum=2\n",
      "제목: 시간선택제공무원 근무시간 확대와 관련된 규정 개정 요청\n",
      "링크: /ucms/ogp/sug/view.do?menuNo=300011&sgId=260&pnum=2\n",
      "제목: 한컴오피스 없으면 대한민국 정부랑 일할수 없는 규제좀 ...\n",
      "링크: /ucms/ogp/sug/view.do?menuNo=300011&sgId=254&pnum=2\n",
      "제목: 부동산 확정일자, 민원24시(http://www.min...\n",
      "링크: /ucms/ogp/sug/view.do?menuNo=300011&sgId=244&pnum=2\n",
      "\n",
      "3 페이지\n",
      "제목: 정부1번가 /시민 제안  차이점 있는지,\n",
      "링크: /ucms/ogp/sug/view.do?menuNo=300011&sgId=232&pnum=3\n",
      "제목: 국민제안 문제점 지적 및 개선사항\n",
      "링크: /ucms/ogp/sug/view.do?menuNo=300011&sgId=227&pnum=3\n",
      "제목: 정부조직법 부처 개편 일부 개정안(추가 일부 변경)\n",
      "링크: /ucms/ogp/sug/view.do?menuNo=300011&sgId=222&pnum=3\n",
      "제목: 아동폭력, 청소년 폭력에 대한 신고의 범위 확대를 위한...\n",
      "링크: /ucms/ogp/sug/view.do?menuNo=300011&sgId=218&pnum=3\n",
      "제목: 공시송달 의뢰공문의 전국배포를 중단하여 문서로 인한 스...\n",
      "링크: /ucms/ogp/sug/view.do?menuNo=300011&sgId=216&pnum=3\n",
      "\n"
     ]
    },
    {
     "data": {
      "text/plain": [
       "15"
      ]
     },
     "execution_count": 30,
     "metadata": {},
     "output_type": "execute_result"
    }
   ],
   "source": [
    "from urllib.parse import quote_plus\n",
    "print('number')\n",
    "num = int(input())\n",
    "print('query')\n",
    "query = quote_plus(input())\n",
    "\n",
    "links = []\n",
    "\n",
    "for i in range(num):\n",
    "    url = f'http://www.innogov.go.kr/ucms/ogp/sug/list.do?pnum={i + 1}&menuNo=300011&searchText={query}'\n",
    "\n",
    "    html = urlopen(url)\n",
    "    soup = BeautifulSoup(html, 'html.parser')\n",
    "\n",
    "    results = soup.select('#content > div.suggestion_list > ul > li > dl > dt > p > a')\n",
    "\n",
    "    print(f'{i + 1} 페이지')\n",
    "    for res in results:\n",
    "        print(\"제목: \" + res.string)\n",
    "        print(\"링크: \" + res.attrs.get('href'))\n",
    "        links.append(res.attrs.get('href'))\n",
    "    print()\n",
    "\n",
    "len(links)"
   ]
  },
  {
   "cell_type": "code",
   "execution_count": 27,
   "metadata": {
    "pycharm": {
     "name": "#%%\n"
    }
   },
   "outputs": [
    {
     "name": "stdout",
     "output_type": "stream",
     "text": [
      "3\n",
      "예산을 공평하게 분배\n"
     ]
    }
   ],
   "source": [
    "url = '/ucms/ogp/sug/view.do?menuNo=300011&sgId=277'\n",
    "baseurl = f'http://www.innogov.go.kr{url}'\n",
    "\n",
    "html = urlopen(baseurl)\n",
    "soup = BeautifulSoup(html, 'html.parser')\n",
    "\n",
    "counter = soup.select_one('#counter').string\n",
    "print(counter)\n",
    "\n",
    "title = soup.find('dl', class_='vveiw_titl1').find('dt').string\n",
    "print(title)"
   ]
  },
  {
   "cell_type": "code",
   "execution_count": 44,
   "metadata": {},
   "outputs": [],
   "source": [
    "def get(url):\n",
    "    baseurl = f'http://www.innogov.go.kr{url}'\n",
    "\n",
    "    html = urlopen(baseurl)\n",
    "    soup = BeautifulSoup(html, 'html.parser')\n",
    "    \n",
    "    data = []\n",
    "    data.append(url.split('=')[-2].split('&')[0])\n",
    "    data.append(soup.select_one('#content > div.vveiw_box1 > dl > dt').string)\n",
    "    data.append(soup.select_one('#content > div.vveiw_box1 > div.vveiw_name > ul > li:nth-child(1) > dl > dd').string)\n",
    "    data.append(soup.select_one('#content > div.vveiw_box1 > div.vveiw_name > ul > li:nth-child(2) > dl > dd').string)\n",
    "    data.append(soup.select_one('#content > div.vveiw_box1 > div.vveiw_name > ul > li:nth-child(3) > dl > dd').string)\n",
    "    data.append(soup.select_one('#counter').string)\n",
    "    data.append(soup.select_one('#content > div.vveiw_box1 > div.vveiw_name > ul > li:nth-child(4) > dl > dd').string)\n",
    "    \n",
    "    return data"
   ]
  },
  {
   "cell_type": "code",
   "execution_count": null,
   "outputs": [],
   "source": [
    "data = []\n",
    "for link in links:\n",
    "    temp = get(link)\n",
    "    data.append(temp)\n",
    "    print(temp)"
   ],
   "metadata": {
    "collapsed": false,
    "pycharm": {
     "name": "#%%\n"
    }
   }
  },
  {
   "cell_type": "code",
   "execution_count": null,
   "outputs": [],
   "source": [
    "import pandas as pd\n",
    "import numpy as np\n",
    "column_list = ['id', 'name', 'category', 'start', 'end', 'vote', 'author']\n",
    "df = pd.DataFrame(data, columns=column_list)\n",
    "df.head()"
   ],
   "metadata": {
    "collapsed": false,
    "pycharm": {
     "name": "#%%\n"
    }
   }
  },
  {
   "cell_type": "code",
   "execution_count": null,
   "outputs": [],
   "source": [
    "df.info()"
   ],
   "metadata": {
    "collapsed": false,
    "pycharm": {
     "name": "#%%\n"
    }
   }
  },
  {
   "cell_type": "code",
   "execution_count": null,
   "outputs": [],
   "source": [
    "df.rename(columns={df.columns[1]: '제목', df.columns[2]: '제안 분야', df.columns[3]: '제안 시작', df.columns[4]: '제안 마감', df.columns[5]: '투표 수', df.columns[6]: '제안인'}, inplace=True)\n",
    "df.head()"
   ],
   "metadata": {
    "collapsed": false,
    "pycharm": {
     "name": "#%%\n"
    }
   }
  },
  {
   "cell_type": "code",
   "execution_count": null,
   "outputs": [],
   "source": [
    "df.to_csv('../data/suggestion.csv', encoding='utf-8')"
   ],
   "metadata": {
    "collapsed": false,
    "pycharm": {
     "name": "#%%\n"
    }
   }
  },
  {
   "cell_type": "code",
   "execution_count": null,
   "outputs": [],
   "source": [],
   "metadata": {
    "collapsed": false,
    "pycharm": {
     "name": "#%%\n"
    }
   }
  },
  {
   "cell_type": "code",
   "execution_count": 45,
   "metadata": {},
   "outputs": [
    {
     "name": "stdout",
     "output_type": "stream",
     "text": [
      "['280', '행정기관 소속 위원회 위원 개인정보 및 안건 공개 기준에 관한 법적 근거 마련', '일반행정', '2019.10.16', '2020.01.13', '0', '법제혁신']\n",
      "['278', '원스톱 의원요구자료 제출 시스템 구축', '일반행정', '2019.10.15', '2020.01.12', '0', '연시랑']\n",
      "['277', '예산을 공평하게 분배', '사회통합', '2019.10.15', '2020.01.12', '3', '슈퍼맨119']\n",
      "['276', '공무원 인트라넷 통합메신저', '일반행정', '2019.10.15', '2020.01.12', '0', '페이소스']\n",
      "['274', '천차만별인 지역 유류가격을 지자체별로 저가 순위 주유소와 고가주유소를 공개하여 시민에게 저렴한 주유소를 알려 서민경제 부담을 줄여 주세요.', '공동체', '2019.10.03', '2019.12.31', '2', '청류']\n",
      "['272', '행안부 생활공감정책추진단 제안에 대한 검토방식 개선', '안전', '2019.09.20', '2019.12.18', '9', '주주단']\n",
      "['271', '주거형 오피스텔 차별 해소 필요', '일반행정', '2019.09.18', '2019.12.16', '4', 'vision']\n",
      "['260', '시간선택제공무원 근무시간 확대와 관련된 규정 개정 요청', '일반행정', '2019.09.04', '2019.12.02', '14', '청운']\n",
      "['254', '한컴오피스 없으면 대한민국 정부랑 일할수 없는 규제좀 풀어주세요.', '일반행정', '2019.08.29', '2019.11.26', '2', '워드좀했으면']\n",
      "['244', '부동산 확정일자, 민원24시(http://www.minwon.go.kr)에서 가능하도록 해요', '일반행정', '2019.08.28', '2019.11.25', '2', '정부혁신과 사회복지']\n",
      "['232', '정부1번가 /시민 제안  차이점 있는지,', '국민참여', '2019.08.22', '2019.11.19', '0', '올리는 시민']\n",
      "['227', '국민제안 문제점 지적 및 개선사항', '국민참여', '2019.07.26', '2019.10.23', '7', '길쌈']\n",
      "['222', '정부조직법 부처 개편 일부 개정안(추가 일부 변경)', '일반행정', '2019.07.16', '2019.10.13', '2', 'jong176']\n",
      "['218', '아동폭력, 청소년 폭력에 대한 신고의 범위 확대를 위한 행정안전부와 보건복지부의 협업을 제안 합니다.', '인권/평등', '2019.07.08', '2019.10.05', '58', '디딤돌']\n",
      "['216', '공시송달 의뢰공문의 전국배포를 중단하여 문서로 인한 스트레스 해소와 행정업무 효율성 증대', '일반행정', '2019.06.27', '2019.09.24', '7', '민첩지킴이']\n"
     ]
    }
   ],
   "source": []
  },
  {
   "cell_type": "code",
   "execution_count": 46,
   "metadata": {},
   "outputs": [
    {
     "data": {
      "text/html": [
       "<div>\n",
       "<style scoped>\n",
       "    .dataframe tbody tr th:only-of-type {\n",
       "        vertical-align: middle;\n",
       "    }\n",
       "\n",
       "    .dataframe tbody tr th {\n",
       "        vertical-align: top;\n",
       "    }\n",
       "\n",
       "    .dataframe thead th {\n",
       "        text-align: right;\n",
       "    }\n",
       "</style>\n",
       "<table border=\"1\" class=\"dataframe\">\n",
       "  <thead>\n",
       "    <tr style=\"text-align: right;\">\n",
       "      <th></th>\n",
       "      <th>id</th>\n",
       "      <th>name</th>\n",
       "      <th>category</th>\n",
       "      <th>start</th>\n",
       "      <th>end</th>\n",
       "      <th>vote</th>\n",
       "      <th>author</th>\n",
       "    </tr>\n",
       "  </thead>\n",
       "  <tbody>\n",
       "    <tr>\n",
       "      <th>0</th>\n",
       "      <td>280</td>\n",
       "      <td>행정기관 소속 위원회 위원 개인정보 및 안건 공개 기준에 관한 법적 근거 마련</td>\n",
       "      <td>일반행정</td>\n",
       "      <td>2019.10.16</td>\n",
       "      <td>2020.01.13</td>\n",
       "      <td>0</td>\n",
       "      <td>법제혁신</td>\n",
       "    </tr>\n",
       "    <tr>\n",
       "      <th>1</th>\n",
       "      <td>278</td>\n",
       "      <td>원스톱 의원요구자료 제출 시스템 구축</td>\n",
       "      <td>일반행정</td>\n",
       "      <td>2019.10.15</td>\n",
       "      <td>2020.01.12</td>\n",
       "      <td>0</td>\n",
       "      <td>연시랑</td>\n",
       "    </tr>\n",
       "    <tr>\n",
       "      <th>2</th>\n",
       "      <td>277</td>\n",
       "      <td>예산을 공평하게 분배</td>\n",
       "      <td>사회통합</td>\n",
       "      <td>2019.10.15</td>\n",
       "      <td>2020.01.12</td>\n",
       "      <td>3</td>\n",
       "      <td>슈퍼맨119</td>\n",
       "    </tr>\n",
       "    <tr>\n",
       "      <th>3</th>\n",
       "      <td>276</td>\n",
       "      <td>공무원 인트라넷 통합메신저</td>\n",
       "      <td>일반행정</td>\n",
       "      <td>2019.10.15</td>\n",
       "      <td>2020.01.12</td>\n",
       "      <td>0</td>\n",
       "      <td>페이소스</td>\n",
       "    </tr>\n",
       "    <tr>\n",
       "      <th>4</th>\n",
       "      <td>274</td>\n",
       "      <td>천차만별인 지역 유류가격을 지자체별로 저가 순위 주유소와 고가주유소를 공개하여 시민...</td>\n",
       "      <td>공동체</td>\n",
       "      <td>2019.10.03</td>\n",
       "      <td>2019.12.31</td>\n",
       "      <td>2</td>\n",
       "      <td>청류</td>\n",
       "    </tr>\n",
       "  </tbody>\n",
       "</table>\n",
       "</div>"
      ],
      "text/plain": [
       "    id                                               name category  \\\n",
       "0  280        행정기관 소속 위원회 위원 개인정보 및 안건 공개 기준에 관한 법적 근거 마련     일반행정   \n",
       "1  278                               원스톱 의원요구자료 제출 시스템 구축     일반행정   \n",
       "2  277                                        예산을 공평하게 분배     사회통합   \n",
       "3  276                                     공무원 인트라넷 통합메신저     일반행정   \n",
       "4  274  천차만별인 지역 유류가격을 지자체별로 저가 순위 주유소와 고가주유소를 공개하여 시민...      공동체   \n",
       "\n",
       "        start         end vote  author  \n",
       "0  2019.10.16  2020.01.13    0    법제혁신  \n",
       "1  2019.10.15  2020.01.12    0     연시랑  \n",
       "2  2019.10.15  2020.01.12    3  슈퍼맨119  \n",
       "3  2019.10.15  2020.01.12    0    페이소스  \n",
       "4  2019.10.03  2019.12.31    2      청류  "
      ]
     },
     "execution_count": 46,
     "metadata": {},
     "output_type": "execute_result"
    }
   ],
   "source": [
    "import pandas as pd\n",
    "import numpy as np\n",
    "column_list = ['id', 'name', 'category', 'start', 'end', 'vote', 'author']\n",
    "df = pd.DataFrame(data, columns=column_list)\n",
    "df.head()"
   ]
  },
  {
   "cell_type": "code",
   "execution_count": 47,
   "metadata": {},
   "outputs": [
    {
     "name": "stdout",
     "output_type": "stream",
     "text": [
      "<class 'pandas.core.frame.DataFrame'>\n",
      "RangeIndex: 15 entries, 0 to 14\n",
      "Data columns (total 7 columns):\n",
      " #   Column    Non-Null Count  Dtype \n",
      "---  ------    --------------  ----- \n",
      " 0   id        15 non-null     object\n",
      " 1   name      15 non-null     object\n",
      " 2   category  15 non-null     object\n",
      " 3   start     15 non-null     object\n",
      " 4   end       15 non-null     object\n",
      " 5   vote      15 non-null     object\n",
      " 6   author    15 non-null     object\n",
      "dtypes: object(7)\n",
      "memory usage: 968.0+ bytes\n"
     ]
    }
   ],
   "source": [
    "df.info()"
   ]
  },
  {
   "cell_type": "code",
   "execution_count": 49,
   "metadata": {},
   "outputs": [
    {
     "data": {
      "text/html": [
       "<div>\n",
       "<style scoped>\n",
       "    .dataframe tbody tr th:only-of-type {\n",
       "        vertical-align: middle;\n",
       "    }\n",
       "\n",
       "    .dataframe tbody tr th {\n",
       "        vertical-align: top;\n",
       "    }\n",
       "\n",
       "    .dataframe thead th {\n",
       "        text-align: right;\n",
       "    }\n",
       "</style>\n",
       "<table border=\"1\" class=\"dataframe\">\n",
       "  <thead>\n",
       "    <tr style=\"text-align: right;\">\n",
       "      <th></th>\n",
       "      <th>id</th>\n",
       "      <th>제목</th>\n",
       "      <th>제안 분야</th>\n",
       "      <th>제안 시작</th>\n",
       "      <th>제안 마감</th>\n",
       "      <th>투표 수</th>\n",
       "      <th>제안인</th>\n",
       "    </tr>\n",
       "  </thead>\n",
       "  <tbody>\n",
       "    <tr>\n",
       "      <th>0</th>\n",
       "      <td>280</td>\n",
       "      <td>행정기관 소속 위원회 위원 개인정보 및 안건 공개 기준에 관한 법적 근거 마련</td>\n",
       "      <td>일반행정</td>\n",
       "      <td>2019.10.16</td>\n",
       "      <td>2020.01.13</td>\n",
       "      <td>0</td>\n",
       "      <td>법제혁신</td>\n",
       "    </tr>\n",
       "    <tr>\n",
       "      <th>1</th>\n",
       "      <td>278</td>\n",
       "      <td>원스톱 의원요구자료 제출 시스템 구축</td>\n",
       "      <td>일반행정</td>\n",
       "      <td>2019.10.15</td>\n",
       "      <td>2020.01.12</td>\n",
       "      <td>0</td>\n",
       "      <td>연시랑</td>\n",
       "    </tr>\n",
       "    <tr>\n",
       "      <th>2</th>\n",
       "      <td>277</td>\n",
       "      <td>예산을 공평하게 분배</td>\n",
       "      <td>사회통합</td>\n",
       "      <td>2019.10.15</td>\n",
       "      <td>2020.01.12</td>\n",
       "      <td>3</td>\n",
       "      <td>슈퍼맨119</td>\n",
       "    </tr>\n",
       "    <tr>\n",
       "      <th>3</th>\n",
       "      <td>276</td>\n",
       "      <td>공무원 인트라넷 통합메신저</td>\n",
       "      <td>일반행정</td>\n",
       "      <td>2019.10.15</td>\n",
       "      <td>2020.01.12</td>\n",
       "      <td>0</td>\n",
       "      <td>페이소스</td>\n",
       "    </tr>\n",
       "    <tr>\n",
       "      <th>4</th>\n",
       "      <td>274</td>\n",
       "      <td>천차만별인 지역 유류가격을 지자체별로 저가 순위 주유소와 고가주유소를 공개하여 시민...</td>\n",
       "      <td>공동체</td>\n",
       "      <td>2019.10.03</td>\n",
       "      <td>2019.12.31</td>\n",
       "      <td>2</td>\n",
       "      <td>청류</td>\n",
       "    </tr>\n",
       "  </tbody>\n",
       "</table>\n",
       "</div>"
      ],
      "text/plain": [
       "    id                                                 제목 제안 분야       제안 시작  \\\n",
       "0  280        행정기관 소속 위원회 위원 개인정보 및 안건 공개 기준에 관한 법적 근거 마련  일반행정  2019.10.16   \n",
       "1  278                               원스톱 의원요구자료 제출 시스템 구축  일반행정  2019.10.15   \n",
       "2  277                                        예산을 공평하게 분배  사회통합  2019.10.15   \n",
       "3  276                                     공무원 인트라넷 통합메신저  일반행정  2019.10.15   \n",
       "4  274  천차만별인 지역 유류가격을 지자체별로 저가 순위 주유소와 고가주유소를 공개하여 시민...   공동체  2019.10.03   \n",
       "\n",
       "        제안 마감 투표 수     제안인  \n",
       "0  2020.01.13    0    법제혁신  \n",
       "1  2020.01.12    0     연시랑  \n",
       "2  2020.01.12    3  슈퍼맨119  \n",
       "3  2020.01.12    0    페이소스  \n",
       "4  2019.12.31    2      청류  "
      ]
     },
     "execution_count": 49,
     "metadata": {},
     "output_type": "execute_result"
    }
   ],
   "source": [
    "df.rename(columns={df.columns[1]: '제목', df.columns[2]: '제안 분야', df.columns[3]: '제안 시작', df.columns[4]: '제안 마감', df.columns[5]: '투표 수', df.columns[6]: '제안인'}, inplace=True)\n",
    "df.head()"
   ]
  },
  {
   "cell_type": "code",
   "execution_count": 50,
   "metadata": {},
   "outputs": [],
   "source": [
    "df.to_csv('../data/suggestion.csv', encoding='utf-8')"
   ]
  },
  {
   "cell_type": "code",
   "execution_count": null,
   "metadata": {},
   "outputs": [],
   "source": []
  }
 ],
 "metadata": {
  "kernelspec": {
   "display_name": "Python 3",
   "language": "python",
   "name": "python3"
  },
  "language_info": {
   "codemirror_mode": {
    "name": "ipython",
    "version": 3
   },
   "file_extension": ".py",
   "mimetype": "text/x-python",
   "name": "python",
   "nbconvert_exporter": "python",
   "pygments_lexer": "ipython3",
   "version": "3.7.7"
  }
 },
 "nbformat": 4,
 "nbformat_minor": 1
}