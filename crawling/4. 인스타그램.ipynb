{
 "cells": [
  {
   "cell_type": "code",
   "execution_count": 1,
   "metadata": {},
   "outputs": [],
   "source": [
    "from selenium import webdriver as wb\n",
    "from selenium.webdriver.common.keys import Keys\n",
    "from bs4 import BeautifulSoup as bs\n",
    "import time"
   ]
  },
  {
   "cell_type": "code",
   "execution_count": 21,
   "metadata": {},
   "outputs": [],
   "source": [
    "url_main = 'https://www.instagram.com'\n",
    "url_sub = '/accounts/login/?hl=ko'\n",
    "\n",
    "login_after_url = 'https://www.instagram.com/explore/tags/python/'\n",
    "driver = wb.Chrome('../chromedriver')\n",
    "\n",
    "#driver.get(url_main+url_sub)\n",
    "driver.get(login_after_url)"
   ]
  },
  {
   "cell_type": "code",
   "execution_count": 22,
   "metadata": {},
   "outputs": [],
   "source": [
    "#검색어 입력\n",
    "input_search = driver.find_element_by_css_selector('input.XTCLo')\n",
    "input_search.send_keys('충장로')"
   ]
  },
  {
   "cell_type": "code",
   "execution_count": 23,
   "outputs": [],
   "source": [
    "soup = bs(driver.page_source,'html.parser')"
   ],
   "metadata": {
    "collapsed": false,
    "pycharm": {
     "name": "#%%\n"
    }
   }
  },
  {
   "cell_type": "code",
   "execution_count": 24,
   "metadata": {},
   "outputs": [
    {
     "name": "stdout",
     "output_type": "stream",
     "text": [
      "태그 타이틀 개수 : 15\n",
      "태그 게시물 개수 : 15\n",
      "전체 주소 개수 : 54\n",
      "태그 주소 개수 : 15\n"
     ]
    }
   ],
   "source": [
    "#title가져오기\n",
    "keywords = soup.select('._28KuJ + div > div.uyeeR > span')\n",
    "print(\"태그 타이틀 개수 :\",len(keywords))\n",
    "\n",
    "#게시물 수 가져오기(게시물로 시작하는건 div태그 다른 글은 span태그)\n",
    "boardNum = soup.findAll('div',class_='Fy4o8')\n",
    "print(\"태그 게시물 개수 :\",len(boardNum))\n",
    "\n",
    "#주소 가져오기\n",
    "hrefs = soup.findAll('a',class_='yCE8d')\n",
    "print(\"전체 주소 개수 :\",len(hrefs))\n",
    "\n",
    "#주소안에 tags가 있는것들만 가지고오기\n",
    "new_hrefs = []\n",
    "for index in range(len(hrefs)):\n",
    "    if 'tags' in hrefs[index]['href']:\n",
    "        new_hrefs.append(hrefs[index])\n",
    "print(\"태그 주소 개수 :\",len(new_hrefs))"
   ]
  },
  {
   "cell_type": "code",
   "execution_count": 25,
   "metadata": {},
   "outputs": [
    {
     "name": "stdout",
     "output_type": "stream",
     "text": [
      "검색된 키워드 : #충장로\n",
      "키워드 주소 : https://www.instagram.com/explore/tags/충장로/\n",
      "게시물 1,602,627\n",
      "--------------------------------------------------\n",
      "검색된 키워드 : #충장로맛집\n",
      "키워드 주소 : https://www.instagram.com/explore/tags/충장로맛집/\n",
      "게시물 186,716\n",
      "--------------------------------------------------\n",
      "검색된 키워드 : #충장로카페\n",
      "키워드 주소 : https://www.instagram.com/explore/tags/충장로카페/\n",
      "게시물 54,338\n",
      "--------------------------------------------------\n",
      "검색된 키워드 : #충장로옷가게\n",
      "키워드 주소 : https://www.instagram.com/explore/tags/충장로옷가게/\n",
      "게시물 68,090\n",
      "--------------------------------------------------\n",
      "검색된 키워드 : #충장로타투\n",
      "키워드 주소 : https://www.instagram.com/explore/tags/충장로타투/\n",
      "게시물 14,854\n",
      "--------------------------------------------------\n",
      "검색된 키워드 : #충장로미용실\n",
      "키워드 주소 : https://www.instagram.com/explore/tags/충장로미용실/\n",
      "게시물 31,398\n",
      "--------------------------------------------------\n",
      "검색된 키워드 : #충장로네일\n",
      "키워드 주소 : https://www.instagram.com/explore/tags/충장로네일/\n",
      "게시물 46,565\n",
      "--------------------------------------------------\n",
      "검색된 키워드 : #충장로네일샵\n",
      "키워드 주소 : https://www.instagram.com/explore/tags/충장로네일샵/\n",
      "게시물 31,594\n",
      "--------------------------------------------------\n",
      "검색된 키워드 : #충장로술집\n",
      "키워드 주소 : https://www.instagram.com/explore/tags/충장로술집/\n",
      "게시물 10,522\n",
      "--------------------------------------------------\n",
      "검색된 키워드 : #충장로핫플\n",
      "키워드 주소 : https://www.instagram.com/explore/tags/충장로핫플/\n",
      "게시물 6,024\n",
      "--------------------------------------------------\n",
      "검색된 키워드 : #충장로속눈썹\n",
      "키워드 주소 : https://www.instagram.com/explore/tags/충장로속눈썹/\n",
      "게시물 15,258\n",
      "--------------------------------------------------\n",
      "검색된 키워드 : #충장로눈썹문신\n",
      "키워드 주소 : https://www.instagram.com/explore/tags/충장로눈썹문신/\n",
      "게시물 13,663\n",
      "--------------------------------------------------\n",
      "검색된 키워드 : #충장로디져트\n",
      "키워드 주소 : https://www.instagram.com/explore/tags/충장로디져트/\n",
      "게시물 5,497\n",
      "--------------------------------------------------\n",
      "검색된 키워드 : #충장로1가\n",
      "키워드 주소 : https://www.instagram.com/explore/tags/충장로1가/\n",
      "게시물 5,509\n",
      "--------------------------------------------------\n",
      "검색된 키워드 : #충장로보드카페\n",
      "키워드 주소 : https://www.instagram.com/explore/tags/충장로보드카페/\n",
      "게시물 7,724\n",
      "--------------------------------------------------\n"
     ]
    }
   ],
   "source": [
    "url_main = 'https://www.instagram.com'\n",
    "for index in range(len(keywords)):\n",
    "    print(\"검색된 키워드 :\",keywords[index].text)\n",
    "    print('키워드 주소 :',url_main+new_hrefs[index]['href'])\n",
    "    print(boardNum[index].text)\n",
    "    print('-'*50)"
   ]
  },
  {
   "cell_type": "markdown",
   "metadata": {},
   "source": [
    "## 첫번째 태그 들어가보기"
   ]
  },
  {
   "cell_type": "code",
   "execution_count": 26,
   "metadata": {},
   "outputs": [],
   "source": [
    "driver.get(url_main+new_hrefs[0]['href'])\n",
    "time.sleep(3)"
   ]
  },
  {
   "cell_type": "markdown",
   "metadata": {},
   "source": [
    "### 첫 번째 게시글 클릭"
   ]
  },
  {
   "cell_type": "code",
   "execution_count": 28,
   "metadata": {},
   "outputs": [],
   "source": [
    "btn_board = driver.find_element_by_class_name('eLAPa')#v1Nh3도 가능\n",
    "btn_board.click()"
   ]
  },
  {
   "cell_type": "code",
   "execution_count": 29,
   "metadata": {},
   "outputs": [],
   "source": [
    "soup = bs(driver.page_source,'html.parser')"
   ]
  },
  {
   "cell_type": "markdown",
   "metadata": {},
   "source": [
    "### 작성자, 댓글 가지고오기"
   ]
  },
  {
   "cell_type": "code",
   "execution_count": 30,
   "metadata": {},
   "outputs": [
    {
     "name": "stdout",
     "output_type": "stream",
     "text": [
      "작성자 :  syeonny_\n",
      "댓글 작성자 및 개수 : 13 13\n"
     ]
    }
   ],
   "source": [
    "#작성자\n",
    "writer = soup.find('a',class_='sqdOP')\n",
    "\n",
    "#댓글작성자, 댓글내용\n",
    "commenters = soup.findAll('a',class_=\"sqdOP\")[1:] #첫번째사람은 작성자니 제외\n",
    "comments = soup.select('._6lAjh + span')\n",
    "\n",
    "print(\"작성자 : \",writer.text)\n",
    "print(\"댓글 작성자 및 개수 :\",len(commenters),len(comments))"
   ]
  },
  {
   "cell_type": "code",
   "execution_count": 31,
   "metadata": {},
   "outputs": [
    {
     "name": "stdout",
     "output_type": "stream",
     "text": [
      "작성자 : syeonny_\n",
      "댓글 : 집앞 십분거리😋\n",
      "------------------------------\n",
      "작성자 : yu_nha2\n",
      "댓글 : 그만 예뻐라 너~~~🙄💕\n",
      "------------------------------\n",
      "작성자 : mean.hwa_lisa\n",
      "댓글 : 이뿐놈❤️❤️❤️\n",
      "------------------------------\n",
      "작성자 : pinkvely___\n",
      "댓글 : 왜 안물어봐? 떠운행\n",
      "------------------------------\n",
      "작성자 : suave__yu\n",
      "댓글 : 존예\n",
      "------------------------------\n",
      "작성자 : me_zero__6\n",
      "댓글 : 너왜 카톡 안봐????\n",
      "------------------------------\n",
      "작성자 : _c_jh__\n",
      "댓글 : 10분거리를 안올려고 별짓을 다했지 너네들..\n",
      "------------------------------\n",
      "작성자 : perfume.yun\n",
      "댓글 : 와...🤭❤️\n",
      "------------------------------\n",
      "작성자 : okkvely_\n",
      "댓글 : 너 요즘 왜 계속 예뻐져 🤍\n",
      "------------------------------\n",
      "작성자 : h_jxn_\n",
      "댓글 : 금호동여신이다🥺\n",
      "------------------------------\n",
      "작성자 : onlythdus\n",
      "댓글 : 완전 이쁘네요 ❤️❤️\n",
      "------------------------------\n",
      "작성자 : dear.__.so\n",
      "댓글 : 나도 델꾸가 개예쁘다 😘😘😘\n",
      "------------------------------\n",
      "작성자 : win0172\n",
      "댓글 : 우리집앞\n",
      "------------------------------\n"
     ]
    }
   ],
   "source": [
    "for index in range(len(commenters)):\n",
    "    print('작성자 :',commenters[index].text)\n",
    "    print('댓글 :',comments[index].text)\n",
    "    print('-'*30)"
   ]
  },
  {
   "cell_type": "markdown",
   "metadata": {},
   "source": [
    "### 작성자, 댓글 가져오기 함수로 만들기"
   ]
  },
  {
   "cell_type": "code",
   "execution_count": 32,
   "metadata": {},
   "outputs": [],
   "source": [
    "def comment_def():\n",
    "    #현재 페이지로 긁어오기\n",
    "    soup = bs(driver.page_source,'html.parser')\n",
    "    \n",
    "    #작성자\n",
    "    writer = soup.find('a',class_='sqdOP')\n",
    "\n",
    "    #댓글작성자, 댓글내용\n",
    "    commenters = soup.findAll('a',class_=\"sqdOP\")[1:]\n",
    "    comments = soup.select('._6lAjh + span')\n",
    "\n",
    "    for index in range(len(commenters)):\n",
    "        print('작성자 :',commenters[index].text)\n",
    "        print('댓글 :',comments[index].text)\n",
    "        print('-'*30)"
   ]
  },
  {
   "cell_type": "code",
   "execution_count": 33,
   "metadata": {},
   "outputs": [
    {
     "name": "stdout",
     "output_type": "stream",
     "text": [
      "작성자 : syeonny_\n",
      "댓글 : 집앞 십분거리😋\n",
      "------------------------------\n",
      "작성자 : yu_nha2\n",
      "댓글 : 그만 예뻐라 너~~~🙄💕\n",
      "------------------------------\n",
      "작성자 : mean.hwa_lisa\n",
      "댓글 : 이뿐놈❤️❤️❤️\n",
      "------------------------------\n",
      "작성자 : pinkvely___\n",
      "댓글 : 왜 안물어봐? 떠운행\n",
      "------------------------------\n",
      "작성자 : suave__yu\n",
      "댓글 : 존예\n",
      "------------------------------\n",
      "작성자 : me_zero__6\n",
      "댓글 : 너왜 카톡 안봐????\n",
      "------------------------------\n",
      "작성자 : _c_jh__\n",
      "댓글 : 10분거리를 안올려고 별짓을 다했지 너네들..\n",
      "------------------------------\n",
      "작성자 : perfume.yun\n",
      "댓글 : 와...🤭❤️\n",
      "------------------------------\n",
      "작성자 : okkvely_\n",
      "댓글 : 너 요즘 왜 계속 예뻐져 🤍\n",
      "------------------------------\n",
      "작성자 : h_jxn_\n",
      "댓글 : 금호동여신이다🥺\n",
      "------------------------------\n",
      "작성자 : onlythdus\n",
      "댓글 : 완전 이쁘네요 ❤️❤️\n",
      "------------------------------\n",
      "작성자 : dear.__.so\n",
      "댓글 : 나도 델꾸가 개예쁘다 😘😘😘\n",
      "------------------------------\n",
      "작성자 : win0172\n",
      "댓글 : 우리집앞\n",
      "------------------------------\n"
     ]
    }
   ],
   "source": [
    "comment_def()"
   ]
  },
  {
   "cell_type": "markdown",
   "metadata": {},
   "source": [
    "### 옆으로 넘기기 함수"
   ]
  },
  {
   "cell_type": "code",
   "execution_count": 34,
   "metadata": {},
   "outputs": [],
   "source": [
    "def nextMove():\n",
    "    driver.find_element_by_class_name('_65Bje').click()\n",
    "    time.sleep(2)"
   ]
  },
  {
   "cell_type": "code",
   "execution_count": 35,
   "metadata": {},
   "outputs": [],
   "source": [
    "nextMove()"
   ]
  },
  {
   "cell_type": "markdown",
   "metadata": {},
   "source": [
    "## 자동으로 넘어가면서 긁어오기"
   ]
  },
  {
   "cell_type": "code",
   "execution_count": 36,
   "metadata": {},
   "outputs": [
    {
     "name": "stdout",
     "output_type": "stream",
     "text": [
      "작성자 : _bi__ni_\n",
      "댓글 : 💙\n",
      "------------------------------\n",
      "작성자 : _bi__ni_\n",
      "댓글 : .\n",
      "------------------------------\n",
      "작성자 : ming_c.97\n",
      "댓글 : 내가 본 사람은 이 사람이 아닌데\n",
      "------------------------------\n",
      "작성자 : luckybin_\n",
      "댓글 : 옷좀 여매자\n",
      "------------------------------\n",
      "작성자 : ju_hui_7218\n",
      "댓글 : 🤏\n",
      "------------------------------\n",
      "작성자 : qkrwhdxo_\n",
      "댓글 : 팔로우하고가요❗️인친해요😆\n",
      "------------------------------\n",
      "작성자 : o._.minsung\n",
      "댓글 : 안녕하세요 헬시디렉터 대표 오민성입니다 좋은 제안 드릴 건데 잠시 소통 가능하세요?\n",
      "------------------------------\n",
      "작성자 : dong____eon\n",
      "댓글 : ㅋㅋㅋㅋㅋㅋㅎㅎ\n",
      "------------------------------\n",
      "작성자 : h_._._ju\n",
      "댓글 : 내남자친구해줄래? 쿠마씨 ?\n",
      "------------------------------\n",
      "작성자 : h_._._ju\n",
      "댓글 : -\n",
      "------------------------------\n",
      "작성자 : taeksun_e_da\n",
      "댓글 : 멘트뭐임ㅋㅋ\n",
      "------------------------------\n",
      "작성자 : xusxun\n",
      "댓글 : 쿠마도 결정권을줘라ㅠ\n",
      "------------------------------\n",
      "작성자 : yoonvely__0531\n",
      "댓글 : 🐳🐳\n",
      "------------------------------\n",
      "작성자 : dang_bi_99\n",
      "댓글 : 쭈구미 삼겹살 먹고 뽀끔밥 먹구 싶다\n",
      "------------------------------\n",
      "작성자 : neul_e_beauty\n",
      "댓글 : 안녕하세요 헬시디렉터 대표 민하늘 입니다. 좋은 제안 드릴 건데 잠시 소통 가능하세요?\n",
      "------------------------------\n",
      "작성자 : __nadilaputri_\n",
      "댓글 : Fff+l4l langsung back🙏☺️\n",
      "------------------------------\n",
      "작성자 : nursopiah444_\n",
      "댓글 : Follow back please\n",
      "------------------------------\n",
      "작성자 : jorgeosvaldoerazolemus\n",
      "댓글 : Bellísima ❤️❤️\n",
      "------------------------------\n",
      "작성자 : dont_wanna_work\n",
      "댓글 : 👍🏻\n",
      "------------------------------\n",
      "작성자 : sestostranazarubljenapiramida\n",
      "댓글 : l4l\n",
      "------------------------------\n",
      "작성자 : sergio_lupian_\n",
      "댓글 : L4l🥱\n",
      "------------------------------\n",
      "작성자 : ishxxn01\n",
      "댓글 : Fff\n",
      "------------------------------\n",
      "작성자 : s__urim__\n",
      "댓글 : Follow back please comeon😄👍🏻\n",
      "------------------------------\n",
      "작성자 : huizaflores\n",
      "댓글 : Besos especiales para ti amor🍓\n",
      "------------------------------\n",
      "작성자 : yau1763\n",
      "댓글 : 💗💋💋💗\n",
      "------------------------------\n",
      "작성자 : yun__ji__\n",
      "댓글 : 피부 엉망(*´□`)ゞ\n",
      "------------------------------\n",
      "작성자 : yun__ji__\n",
      "댓글 : 🏷\n",
      "------------------------------\n",
      "작성자 : y___m31\n",
      "댓글 : 20분\n",
      "------------------------------\n",
      "작성자 : xuminous_12\n",
      "댓글 : 🧐\n",
      "------------------------------\n",
      "작성자 : ssuni._.2\n",
      "댓글 : 안녕하세요  소셜미디어 디렉터 대표 유진선 입니다 ☺️ 좋은 제안 드릴 건데  잠시 dm 소통 가능하세요?\n",
      "------------------------------\n",
      "작성자 : o726_x_67\n",
      "댓글 : 눈도장 찍고 갑니답 제 피드도 놀러와주세연\n",
      "------------------------------\n",
      "작성자 : ini_multiplex\n",
      "댓글 : 소통해요오 :)\n",
      "------------------------------\n",
      "작성자 : _sleepu00\n",
      "댓글 : 소통해요✨☺️\n",
      "------------------------------\n",
      "작성자 : oeunsu_0731\n",
      "댓글 : 이날씨에 춘추복 입고 졸업사진이라니😫---#daily#ootd#instagood#selfie#fff#lfl#졸업사진#졸사#데일리#일상#교복#셀스타그램#셀카#오늘의훈녀#훈녀#협찬#고등학생#학교#고3#02년생#광주#상무지구#충장로#첫줄#첫줄반사#좋아요#좋반#좋아요반사#선팔하면맞팔#맞팔\n",
      "------------------------------\n",
      "작성자 : s.t.a.r.lights\n",
      "댓글 : Beautiful post and account ❤️ please like my last pic 💕\n",
      "------------------------------\n",
      "작성자 : 2_gcircle\n",
      "댓글 : 개이쁨💕😍\n",
      "------------------------------\n",
      "작성자 : jo_huiho\n",
      "댓글 : 언니 이뻐요\n",
      "------------------------------\n",
      "작성자 : 9ood9irl_hj\n",
      "댓글 : _너굴너굴 방댕이\n",
      "------------------------------\n",
      "작성자 : 9ood9irl_hj\n",
      "댓글 : _\n",
      "------------------------------\n",
      "작성자 : o._.minsung\n",
      "댓글 : 안녕하세요 헬시디렉터 대표 오민성입니다 좋은 제안 드릴 건데 잠시 소통 가능하세요?\n",
      "------------------------------\n",
      "작성자 : _vicenteaugusto\n",
      "댓글 : BO NI TA 😄😄✌️🏽\n",
      "------------------------------\n",
      "작성자 : chxeaxn\n",
      "댓글 : 낼 휴무로 착각한 바보몽총이🤦🏻‍♀️\n",
      "------------------------------\n",
      "작성자 : chxeaxn\n",
      "댓글 : ☁️\n",
      "------------------------------\n",
      "작성자 : na2noteating\n",
      "댓글 : 옙흐시네요 인친님~^^\n",
      "------------------------------\n",
      "작성자 : hxxmzz_\n",
      "댓글 : 예쁜데 바보같애\n",
      "------------------------------\n",
      "작성자 : s_h_s2__\n",
      "댓글 : 예뽕\n",
      "------------------------------\n",
      "작성자 : __08.30\n",
      "댓글 : 네 다음 바보멍충이 😝\n",
      "------------------------------\n",
      "작성자 : kim_ec2\n",
      "댓글 : 오일제품을 처음써보는데생각한것보다는 초큼 실망스러움거품도 잘 안나고저자극을 타이틀로 걸고 나온 제품임에도 불구하고쉐이빙 후 자극이 그대로 전해짐향은 어디서 맡아봤나했더니 사우나화장품냄새와 거의 동일진한 남자의향기가 올라옴 극불호 @bartera_official #쉐이빙오일 #쉐이빙 #저자극면도 #면도 #피부진정 #남자화장품 #올리브영입점 #롭스입점 #멀티액션쉐이빙포밍오일 #바르테라 #08L #Sponsored\n",
      "------------------------------\n",
      "작성자 : kim_ec2\n",
      "댓글 : 😢\n",
      "------------------------------\n",
      "작성자 : cuddly__ssu\n",
      "댓글 : 내가 행복하길 바라고나를 행복하게 해주는사람이 자기가 되달라고기도했다는 이 오빠를어떻게 안사랑하고 배겨--#이수정껌딱지 는 가끔 말도안되게 감동을 주더라.. ෆ\n",
      "------------------------------\n",
      "작성자 : layun__boyeon\n",
      "댓글 : #광주미용실 #동명동 #라윤헤어 #라윤보연--#핑크염색 #네온핑크 #핑크컬러 #레드핑크살면서 한번쯤은 해봐도 되는 컬러여자라면 누구나 핑크핑크 💕💕-빠지면서 피치베이지느낌으로 !--💌문의 : dm / kakao : @라윤헤어📞062.222.7934\n",
      "------------------------------\n",
      "작성자 : layun__boyeon\n",
      "댓글 : 💌\n",
      "------------------------------\n"
     ]
    }
   ],
   "source": [
    "for i in range(10):\n",
    "    nextMove()\n",
    "    comment_def()"
   ]
  },
  {
   "cell_type": "markdown",
   "metadata": {
    "collapsed": true
   },
   "source": [
    "# 해시태그만 긁어오기"
   ]
  },
  {
   "cell_type": "code",
   "execution_count": 37,
   "metadata": {},
   "outputs": [],
   "source": [
    "\"\"\"해시태그에 띄어쓰기가 없는경우 문제가 있음\"\"\"\n",
    "def comment_hash_def():\n",
    "    #현재 페이지로 긁어오기\n",
    "    soup = bs(driver.page_source,'html.parser')\n",
    "    \n",
    "    #모든 댓글 긁어오기 해시태그 위치가 항상 다름\n",
    "    comments = soup.select('._6lAjh + span')\n",
    "    \n",
    "    hashtag = []\n",
    "    for comment in comments:\n",
    "        #띄어쓰기 기준으로 자르기\n",
    "        words = comment.text.split()\n",
    "\n",
    "        for word in words:\n",
    "            #'#'이 있는것만 가져오기\n",
    "            if '#' in word:\n",
    "                #print(word)\n",
    "                hashtag.append(word)\n",
    "                \n",
    "    return hashtag\n"
   ]
  },
  {
   "cell_type": "code",
   "execution_count": 38,
   "metadata": {},
   "outputs": [
    {
     "data": {
      "text/plain": "['#광주미용실', '#동명동', '#라윤헤어', '#라윤보연--#핑크염색', '#네온핑크', '#핑크컬러', '#레드핑크살면서']"
     },
     "execution_count": 38,
     "metadata": {},
     "output_type": "execute_result"
    }
   ],
   "source": [
    "#리스트로 반환\n",
    "comment_hash_def() "
   ]
  },
  {
   "cell_type": "code",
   "execution_count": 39,
   "metadata": {},
   "outputs": [
    {
     "name": "stdout",
     "output_type": "stream",
     "text": [
      "#광주\n",
      "#상무지구\n",
      "#상지\n",
      "#수완지구\n",
      "#첨단\n",
      "#나주\n",
      "#목포\n",
      "#전남\n",
      "#전주\n",
      "#전북\n",
      "#익산\n",
      "#고흥\n",
      "#고창\n",
      "#여수\n",
      "#순천\n",
      "#동명동\n",
      "#양림동\n",
      "#화순\n",
      "#장성\n",
      "#광주카페\n",
      "#광주맛집\n",
      "#구시청\n",
      "#충장로\n",
      "#불로동\n",
      "#조선대\n",
      "#조대\n",
      "#전대\n",
      "#전남대\n",
      "#전대후문\n",
      "#조대후문\n",
      "리미티드에디숑!...#나주혁신도시\n",
      "#나주\n",
      "#나주강아지\n",
      "#나주강아지분양\n",
      "#나주강아지미용\n",
      "#나주애견미용\n",
      "#나주애견미용잘하는곳\n",
      "#나주애견동반\n",
      "....#광주\n",
      "#상무지구\n",
      "#수완지구\n",
      "#동명동\n",
      "#충장로\n",
      "#부산\n",
      "#해운대\n",
      "#가로수길\n",
      "#이태원\n",
      "#애견분양\n",
      "#강아지\n",
      "#포메라니안\n",
      "#말티즈\n",
      "#비숑프리제\n",
      "#비숑\n",
      "#가윗컷전문\n",
      "#맞팔\n",
      "#좋반\n",
      "#강스타그램\n",
      "#선팔하면맞팔\n",
      "#수제옷제작\n",
      "#수제하네스👉전화문의:010-9894-2228\n",
      "연출에는#플라워펌\n",
      "#발롱펌\n",
      "#히피펌\n",
      "#광주#전주#서울#광주미용실#레이어드컷#히피펌#굵은히피펌#광주히피펌#플라워펌#광주플라워펌#동명동#충장로#상무지구#광주머리잘하는곳#광주파마잘하는곳#라인헤어\n",
      "#라인헤어예지#레이어드펌#셀카#좋반#맞팔#일상#뷰티\n",
      "연출에는#플라워펌\n",
      "#발롱펌\n",
      "#히피펌\n",
      "#광주#전주#서울#광주미용실#레이어드컷#히피펌#굵은히피펌#광주히피펌#플라워펌#광주플라워펌#동명동#충장로#상무지구#광주머리잘하는곳#광주파마잘하는곳#라인헤어\n",
      "#라인헤어예지#레이어드펌#셀카#좋반#맞팔\n",
      "리미티드에디숑!...#나주혁신도시\n",
      "#나주\n",
      "#나주강아지\n",
      "#나주강아지분양\n",
      "#나주강아지미용\n",
      "#나주애견미용\n",
      "#나주애견미용잘하는곳\n",
      "#나주애견동반\n",
      "....#광주\n",
      "#상무지구\n",
      "#수완지구\n",
      "#동명동\n",
      "#충장로\n",
      "#부산\n",
      "#해운대\n",
      "#가로수길\n",
      "#이태원\n",
      "#애견분양\n",
      "#강아지\n",
      "#포메라니안\n",
      "#말티즈\n",
      "#비숑프리제\n",
      "#비숑\n",
      "#가윗컷전문\n",
      "#맞팔\n",
      "#좋반\n",
      "#강스타그램\n",
      "#선팔하면맞팔\n",
      "#수제옷제작\n",
      "#수제하네스👉전화문의:010-9894-2228\n"
     ]
    }
   ],
   "source": [
    "\"\"\"이동하면서 해시태그 수집\"\"\"\n",
    "for i in range(5):\n",
    "    nextMove()\n",
    "    for tag in comment_hash_def():\n",
    "        print(tag)"
   ]
  },
  {
   "cell_type": "markdown",
   "metadata": {},
   "source": [
    "# 해시태그 완벽하게 가져오기"
   ]
  },
  {
   "cell_type": "code",
   "execution_count": 40,
   "metadata": {},
   "outputs": [],
   "source": [
    "\"\"\"띄어쓰기가 안되어있는 문제 해결 tag_preprocessiong\"\"\"\n",
    "def tag_preprocessiong(ss):\n",
    "    \n",
    "    tag_list = []\n",
    "    for s in ss:\n",
    "        while True:\n",
    "            hash1 = s.find(\"#\")#첫번째 #\n",
    "            hash2 = s.find(\"#\",hash1+1)# 첫번째 # 이후 다음 # 찾아보기\n",
    "            \n",
    "            if hash2==-1:\n",
    "                tag_list.append(s[hash1:].strip())\n",
    "            else:\n",
    "                tag_list.append(s[hash1:hash2].strip())\n",
    "            \n",
    "            s = s[hash2:]\n",
    "\n",
    "            if len(s)==1:\n",
    "                break\n",
    "    return tag_list\n",
    "\n",
    "def comment_hash_def():\n",
    "    #현재 페이지로 긁어오기\n",
    "    soup = bs(driver.page_source,'html.parser')\n",
    "    \n",
    "    #모든 댓글 긁어오기 해시태그 위치가 항상 다름\n",
    "    comments = soup.select('._6lAjh + span')\n",
    "    \n",
    "    hashtag = []\n",
    "    for comment in comments:\n",
    "        #띄어쓰기 기준으로 자르기\n",
    "        word_split = comment.text.split()\n",
    "        \n",
    "        # 위의함수추가\n",
    "        words = tag_preprocessiong(word_split)\n",
    "        \n",
    "        for word in words:\n",
    "            #'#'이 있는것만 가져오기\n",
    "            if '#' in word:\n",
    "                #print(word)\n",
    "                hashtag.append(word)\n",
    "                \n",
    "    return hashtag"
   ]
  },
  {
   "cell_type": "code",
   "execution_count": 41,
   "metadata": {},
   "outputs": [
    {
     "data": {
      "text/plain": "['#나주혁신도시',\n '#나주',\n '#나주강아지',\n '#나주강아지분양',\n '#나주강아지미용',\n '#나주애견미용',\n '#나주애견미용잘하는곳',\n '#나주애견동반',\n '#광주',\n '#상무지구',\n '#수완지구',\n '#동명동',\n '#충장로',\n '#부산',\n '#해운대',\n '#가로수길',\n '#이태원',\n '#애견분양',\n '#강아지',\n '#포메라니안',\n '#말티즈',\n '#비숑프리제',\n '#비숑',\n '#가윗컷전문',\n '#맞팔',\n '#좋반',\n '#강스타그램',\n '#선팔하면맞팔',\n '#수제옷제작',\n '#수제하네스👉전화문의:010-9894-2228']"
     },
     "execution_count": 41,
     "metadata": {},
     "output_type": "execute_result"
    }
   ],
   "source": [
    "comment_hash_def()"
   ]
  },
  {
   "cell_type": "code",
   "execution_count": 42,
   "metadata": {},
   "outputs": [
    {
     "name": "stdout",
     "output_type": "stream",
     "text": [
      "#nerdy\n",
      "#nerdyflagshipstore\n",
      "#slide\n",
      "#널디\n",
      "#널디광주플래그쉽스토어\n",
      "#널디플래그쉽스토어\n",
      "#널디슬리퍼\n",
      "#힙한느낌\n",
      "#패션\n",
      "#스트릿브랜드\n",
      "#널디매장\n",
      "#충장로\n",
      "#광주광역시\n",
      "#韓国\n",
      "#할머니\n",
      "#할머니와손녀\n",
      "#럽스타그램\n",
      "#화정동네일샵\n",
      "#네일아트행사\n",
      "#화정동네일\n",
      "#네일아트\n",
      "#화정동\n",
      "#이달의아트\n",
      "#맞팔\n",
      "#선팔\n",
      "#소통\n",
      "#네일스타그램\n",
      "#광주\n",
      "#염주동네일\n",
      "#\n",
      "#일상\n",
      "#미용\n",
      "#화정동네일샵추천\n",
      "#동명동\n",
      "#패디큐어\n",
      "#네일아트디자인\n",
      "#네일맛집\n",
      "#네일\n",
      "#봄네일\n",
      "#패디\n",
      "#충장로\n",
      "#동명동\n",
      "#서구네일\n",
      "#일상\n",
      "#데일리\n"
     ]
    }
   ],
   "source": [
    "\"\"\"이동하면서 해시태그 수집\"\"\"\n",
    "for i in range(5):\n",
    "    nextMove()\n",
    "    for tag in comment_hash_def():\n",
    "        print(tag)"
   ]
  },
  {
   "cell_type": "code",
   "execution_count": null,
   "outputs": [],
   "source": [
    "\n"
   ],
   "metadata": {
    "collapsed": false,
    "pycharm": {
     "name": "#%%\n"
    }
   }
  }
 ],
 "metadata": {
  "kernelspec": {
   "display_name": "Python 3",
   "language": "python",
   "name": "python3"
  },
  "language_info": {
   "codemirror_mode": {
    "name": "ipython",
    "version": 3
   },
   "file_extension": ".py",
   "mimetype": "text/x-python",
   "name": "python",
   "nbconvert_exporter": "python",
   "pygments_lexer": "ipython3",
   "version": "3.7.6"
  }
 },
 "nbformat": 4,
 "nbformat_minor": 2
}